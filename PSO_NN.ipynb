{
 "cells": [
  {
   "cell_type": "code",
   "execution_count": 155,
   "id": "fd16b5b4",
   "metadata": {},
   "outputs": [],
   "source": [
    "import numpy as np\n",
    "import pandas as pd"
   ]
  },
  {
   "cell_type": "code",
   "execution_count": 156,
   "id": "e9f35bd1",
   "metadata": {},
   "outputs": [],
   "source": [
    "df = pd.read_csv(r\"C:\\Users\\user\\Downloads\\Bank_Personal_Loan_Modelling.csv\")\n"
   ]
  },
  {
   "cell_type": "code",
   "execution_count": 157,
   "id": "d59263d9",
   "metadata": {},
   "outputs": [],
   "source": [
    "df= df[['Age', 'Experience', 'Income', 'ZIP Code', 'Family', 'CCAvg',\n",
    "       'Education', 'Mortgage', 'Securities Account',\n",
    "       'CD Account', 'Online', 'CreditCard', 'Personal Loan']]"
   ]
  },
  {
   "cell_type": "code",
   "execution_count": 158,
   "id": "4085c6a5",
   "metadata": {},
   "outputs": [],
   "source": [
    "X = df.iloc[:,:-1].values\n",
    "Y = df.iloc[:,-1].values"
   ]
  },
  {
   "cell_type": "code",
   "execution_count": 159,
   "id": "c0052475",
   "metadata": {},
   "outputs": [],
   "source": [
    "from sklearn.preprocessing import StandardScaler\n",
    "sc = StandardScaler()\n",
    "X = sc.fit_transform(X)"
   ]
  },
  {
   "cell_type": "code",
   "execution_count": 160,
   "id": "604dc0f2",
   "metadata": {},
   "outputs": [],
   "source": [
    "from sklearn.model_selection import train_test_split\n",
    "X_train, X_test, Y_train, Y_test = train_test_split(X, Y, test_size=0.3, random_state=32)"
   ]
  },
  {
   "cell_type": "code",
   "execution_count": 196,
   "id": "5c8bb5df",
   "metadata": {},
   "outputs": [],
   "source": [
    "from keras.models import Sequential\n",
    "from keras.layers import Dense\n",
    "from pyswarms.single import GlobalBestPSO"
   ]
  },
  {
   "cell_type": "code",
   "execution_count": 197,
   "id": "d2795349",
   "metadata": {},
   "outputs": [],
   "source": [
    "def pso_model(input_dim, output_dim, nodes, n=1, name='model'):\n",
    "    model = Sequential(name=name)\n",
    "    for i in range(n):\n",
    "        model.add(Dense(nodes, input_dim=input_dim, activation='relu'))\n",
    "    \n",
    "    model.add(Dense(1, activation='sigmoid'))\n",
    "    model.compile(loss='binary_crossentropy',optimizer='adam',metrics=['accuracy'])\n",
    "    return model"
   ]
  },
  {
   "cell_type": "code",
   "execution_count": 198,
   "id": "b82e4506",
   "metadata": {},
   "outputs": [],
   "source": [
    "features = X.shape[1]\n",
    "classes = len(df['Personal Loan'].unique())"
   ]
  },
  {
   "cell_type": "code",
   "execution_count": 199,
   "id": "95f9257d",
   "metadata": {},
   "outputs": [
    {
     "name": "stdout",
     "output_type": "stream",
     "text": [
      "Model: \"model\"\n",
      "_________________________________________________________________\n",
      " Layer (type)                Output Shape              Param #   \n",
      "=================================================================\n",
      " dense_12 (Dense)            (None, 4)                 52        \n",
      "                                                                 \n",
      " dense_13 (Dense)            (None, 4)                 20        \n",
      "                                                                 \n",
      " dense_14 (Dense)            (None, 1)                 5         \n",
      "                                                                 \n",
      "=================================================================\n",
      "Total params: 77\n",
      "Trainable params: 77\n",
      "Non-trainable params: 0\n",
      "_________________________________________________________________\n",
      "Epoch 1/50\n",
      "700/700 [==============================] - 1s 1ms/step - loss: 0.3431 - accuracy: 0.9049 - val_loss: 0.2347 - val_accuracy: 0.9013\n",
      "Epoch 2/50\n",
      "700/700 [==============================] - 1s 1ms/step - loss: 0.2058 - accuracy: 0.9051 - val_loss: 0.1821 - val_accuracy: 0.9013\n",
      "Epoch 3/50\n",
      "700/700 [==============================] - 1s 1ms/step - loss: 0.1589 - accuracy: 0.9051 - val_loss: 0.1496 - val_accuracy: 0.9013\n",
      "Epoch 4/50\n",
      "700/700 [==============================] - 1s 1ms/step - loss: 0.1299 - accuracy: 0.9366 - val_loss: 0.1296 - val_accuracy: 0.9600\n",
      "Epoch 5/50\n",
      "700/700 [==============================] - 1s 1ms/step - loss: 0.1132 - accuracy: 0.9640 - val_loss: 0.1196 - val_accuracy: 0.9640\n",
      "Epoch 6/50\n",
      "700/700 [==============================] - 1s 1ms/step - loss: 0.1024 - accuracy: 0.9700 - val_loss: 0.1102 - val_accuracy: 0.9653\n",
      "Epoch 7/50\n",
      "700/700 [==============================] - 1s 1ms/step - loss: 0.0946 - accuracy: 0.9706 - val_loss: 0.1035 - val_accuracy: 0.9680\n",
      "Epoch 8/50\n",
      "700/700 [==============================] - 1s 1ms/step - loss: 0.0886 - accuracy: 0.9740 - val_loss: 0.0994 - val_accuracy: 0.9687\n",
      "Epoch 9/50\n",
      "700/700 [==============================] - 1s 1ms/step - loss: 0.0842 - accuracy: 0.9751 - val_loss: 0.0948 - val_accuracy: 0.9720\n",
      "Epoch 10/50\n",
      "700/700 [==============================] - 1s 1ms/step - loss: 0.0805 - accuracy: 0.9766 - val_loss: 0.0933 - val_accuracy: 0.9720\n",
      "Epoch 11/50\n",
      "700/700 [==============================] - 1s 1ms/step - loss: 0.0776 - accuracy: 0.9789 - val_loss: 0.0911 - val_accuracy: 0.9713\n",
      "Epoch 12/50\n",
      "700/700 [==============================] - 1s 1ms/step - loss: 0.0749 - accuracy: 0.9783 - val_loss: 0.0897 - val_accuracy: 0.9707\n",
      "Epoch 13/50\n",
      "700/700 [==============================] - 1s 1ms/step - loss: 0.0726 - accuracy: 0.9777 - val_loss: 0.0873 - val_accuracy: 0.9713\n",
      "Epoch 14/50\n",
      "700/700 [==============================] - 1s 1ms/step - loss: 0.0706 - accuracy: 0.9791 - val_loss: 0.0867 - val_accuracy: 0.9700\n",
      "Epoch 15/50\n",
      "700/700 [==============================] - 1s 1ms/step - loss: 0.0689 - accuracy: 0.9809 - val_loss: 0.0845 - val_accuracy: 0.9713\n",
      "Epoch 16/50\n",
      "700/700 [==============================] - 1s 1ms/step - loss: 0.0680 - accuracy: 0.9814 - val_loss: 0.0832 - val_accuracy: 0.9720\n",
      "Epoch 17/50\n",
      "700/700 [==============================] - 1s 1ms/step - loss: 0.0668 - accuracy: 0.9803 - val_loss: 0.0834 - val_accuracy: 0.9720\n",
      "Epoch 18/50\n",
      "700/700 [==============================] - 1s 1ms/step - loss: 0.0656 - accuracy: 0.9811 - val_loss: 0.0813 - val_accuracy: 0.9720\n",
      "Epoch 19/50\n",
      "700/700 [==============================] - 1s 1ms/step - loss: 0.0655 - accuracy: 0.9814 - val_loss: 0.0800 - val_accuracy: 0.9740\n",
      "Epoch 20/50\n",
      "700/700 [==============================] - 1s 1ms/step - loss: 0.0645 - accuracy: 0.9817 - val_loss: 0.0817 - val_accuracy: 0.9713\n",
      "Epoch 21/50\n",
      "700/700 [==============================] - 1s 1ms/step - loss: 0.0639 - accuracy: 0.9840 - val_loss: 0.0804 - val_accuracy: 0.9713\n",
      "Epoch 22/50\n",
      "700/700 [==============================] - 1s 1ms/step - loss: 0.0634 - accuracy: 0.9831 - val_loss: 0.0777 - val_accuracy: 0.9733\n",
      "Epoch 23/50\n",
      "700/700 [==============================] - 1s 1ms/step - loss: 0.0627 - accuracy: 0.9806 - val_loss: 0.0794 - val_accuracy: 0.9733\n",
      "Epoch 24/50\n",
      "700/700 [==============================] - 1s 1ms/step - loss: 0.0619 - accuracy: 0.9820 - val_loss: 0.0763 - val_accuracy: 0.9733\n",
      "Epoch 25/50\n",
      "700/700 [==============================] - 1s 1ms/step - loss: 0.0612 - accuracy: 0.9829 - val_loss: 0.0792 - val_accuracy: 0.9727\n",
      "Epoch 26/50\n",
      "700/700 [==============================] - 1s 1ms/step - loss: 0.0612 - accuracy: 0.9817 - val_loss: 0.0760 - val_accuracy: 0.9747\n",
      "Epoch 27/50\n",
      "700/700 [==============================] - 1s 1ms/step - loss: 0.0612 - accuracy: 0.9829 - val_loss: 0.0746 - val_accuracy: 0.9753\n",
      "Epoch 28/50\n",
      "700/700 [==============================] - 1s 1ms/step - loss: 0.0598 - accuracy: 0.9843 - val_loss: 0.0755 - val_accuracy: 0.9747\n",
      "Epoch 29/50\n",
      "700/700 [==============================] - 1s 1ms/step - loss: 0.0597 - accuracy: 0.9840 - val_loss: 0.0748 - val_accuracy: 0.9740\n",
      "Epoch 30/50\n",
      "700/700 [==============================] - 1s 1ms/step - loss: 0.0591 - accuracy: 0.9843 - val_loss: 0.0738 - val_accuracy: 0.9753\n",
      "Epoch 31/50\n",
      "700/700 [==============================] - 1s 1ms/step - loss: 0.0584 - accuracy: 0.9840 - val_loss: 0.0749 - val_accuracy: 0.9740\n",
      "Epoch 32/50\n",
      "700/700 [==============================] - 1s 1ms/step - loss: 0.0585 - accuracy: 0.9829 - val_loss: 0.0740 - val_accuracy: 0.9747\n",
      "Epoch 33/50\n",
      "700/700 [==============================] - 1s 1ms/step - loss: 0.0579 - accuracy: 0.9834 - val_loss: 0.0711 - val_accuracy: 0.9747\n",
      "Epoch 34/50\n",
      "700/700 [==============================] - 1s 1ms/step - loss: 0.0577 - accuracy: 0.9843 - val_loss: 0.0725 - val_accuracy: 0.9740\n",
      "Epoch 35/50\n",
      "700/700 [==============================] - 1s 1ms/step - loss: 0.0573 - accuracy: 0.9834 - val_loss: 0.0719 - val_accuracy: 0.9753\n",
      "Epoch 36/50\n",
      "700/700 [==============================] - 1s 1ms/step - loss: 0.0571 - accuracy: 0.9846 - val_loss: 0.0725 - val_accuracy: 0.9733\n",
      "Epoch 37/50\n",
      "700/700 [==============================] - 1s 1ms/step - loss: 0.0562 - accuracy: 0.9843 - val_loss: 0.0719 - val_accuracy: 0.9747\n",
      "Epoch 38/50\n",
      "700/700 [==============================] - 1s 1ms/step - loss: 0.0563 - accuracy: 0.9834 - val_loss: 0.0709 - val_accuracy: 0.9740\n",
      "Epoch 39/50\n",
      "700/700 [==============================] - 1s 1ms/step - loss: 0.0564 - accuracy: 0.9846 - val_loss: 0.0723 - val_accuracy: 0.9727\n",
      "Epoch 40/50\n",
      "700/700 [==============================] - 1s 1ms/step - loss: 0.0560 - accuracy: 0.9843 - val_loss: 0.0720 - val_accuracy: 0.9747\n",
      "Epoch 41/50\n",
      "700/700 [==============================] - 1s 1ms/step - loss: 0.0555 - accuracy: 0.9843 - val_loss: 0.0699 - val_accuracy: 0.9733\n",
      "Epoch 42/50\n",
      "700/700 [==============================] - 1s 1ms/step - loss: 0.0560 - accuracy: 0.9820 - val_loss: 0.0714 - val_accuracy: 0.9740\n",
      "Epoch 43/50\n",
      "700/700 [==============================] - 1s 1ms/step - loss: 0.0551 - accuracy: 0.9843 - val_loss: 0.0723 - val_accuracy: 0.9727\n",
      "Epoch 44/50\n",
      "700/700 [==============================] - 1s 1ms/step - loss: 0.0551 - accuracy: 0.9829 - val_loss: 0.0749 - val_accuracy: 0.9740\n",
      "Epoch 45/50\n",
      "700/700 [==============================] - 1s 1ms/step - loss: 0.0556 - accuracy: 0.9854 - val_loss: 0.0720 - val_accuracy: 0.9727\n",
      "Epoch 46/50\n",
      "700/700 [==============================] - 1s 1ms/step - loss: 0.0549 - accuracy: 0.9843 - val_loss: 0.0714 - val_accuracy: 0.9733\n",
      "Epoch 47/50\n",
      "700/700 [==============================] - 1s 1ms/step - loss: 0.0549 - accuracy: 0.9831 - val_loss: 0.0711 - val_accuracy: 0.9733\n",
      "Epoch 48/50\n",
      "700/700 [==============================] - 1s 1ms/step - loss: 0.0550 - accuracy: 0.9860 - val_loss: 0.0709 - val_accuracy: 0.9747\n",
      "Epoch 49/50\n",
      "700/700 [==============================] - 1s 1ms/step - loss: 0.0545 - accuracy: 0.9849 - val_loss: 0.0711 - val_accuracy: 0.9747\n",
      "Epoch 50/50\n",
      "700/700 [==============================] - 1s 1ms/step - loss: 0.0548 - accuracy: 0.9840 - val_loss: 0.0701 - val_accuracy: 0.9720\n",
      "47/47 [==============================] - 0s 847us/step - loss: 0.0701 - accuracy: 0.9720\n"
     ]
    }
   ],
   "source": [
    "n_layers = 2\n",
    "model = pso_model(features, classes,4, n_layers)\n",
    "model.summary()\n",
    "\n",
    "callback = model.fit(X_train, Y_train,batch_size=5,epochs=50,validation_data=(X_test, Y_test))\n",
    "score = model.evaluate(X_test, Y_test)"
   ]
  },
  {
   "cell_type": "code",
   "execution_count": 200,
   "id": "c1381792",
   "metadata": {},
   "outputs": [
    {
     "name": "stdout",
     "output_type": "stream",
     "text": [
      "Test accuracy: 0.972000002861023\n"
     ]
    }
   ],
   "source": [
    "print('Test accuracy:', score[1])"
   ]
  },
  {
   "cell_type": "code",
   "execution_count": 201,
   "id": "e153d89d",
   "metadata": {},
   "outputs": [],
   "source": [
    "def get_shape(model):\n",
    "    weights_layer = model.get_weights()\n",
    "    shapes = []\n",
    "    for weights in weights_layer:\n",
    "        shapes.append(weights.shape)\n",
    "    return shapes\n",
    "def set_shape(weights,shapes):\n",
    "    new_weights = []\n",
    "    index=0\n",
    "    for shape in shapes:\n",
    "        if(len(shape)>1):\n",
    "            n_nodes = np.prod(shape)+index\n",
    "        else:\n",
    "            n_nodes=shape[0]+index\n",
    "        tmp = np.array(weights[index:n_nodes]).reshape(shape)\n",
    "        new_weights.append(tmp)\n",
    "        index=n_nodes\n",
    "    return new_weights"
   ]
  },
  {
   "cell_type": "code",
   "execution_count": 202,
   "id": "0eaa4e48",
   "metadata": {},
   "outputs": [],
   "source": [
    "def evaluate_nn(W, shape,X_train=X_train, Y_train=Y_train):\n",
    "    results = []\n",
    "    for weights in W:\n",
    "        model.set_weights(set_shape(weights,shape))\n",
    "        score = model.evaluate(X_train, Y_train, verbose=0)\n",
    "        results.append(1-score[1])\n",
    "    return results"
   ]
  },
  {
   "cell_type": "code",
   "execution_count": null,
   "id": "74a63995",
   "metadata": {},
   "outputs": [],
   "source": []
  },
  {
   "cell_type": "code",
   "execution_count": 203,
   "id": "cf4131d7",
   "metadata": {},
   "outputs": [],
   "source": [
    "shape = get_shape(model)\n",
    "x_max = 1.0 * np.ones(83)\n",
    "x_min = -1.0 * x_max\n",
    "bounds = (x_min, x_max)\n",
    "options = {'c1': 0.4, 'c2': 0.8, 'w': 0.4}\n",
    "optimizer = GlobalBestPSO(n_particles=25, dimensions=83,options=options, bounds=bounds)"
   ]
  },
  {
   "cell_type": "code",
   "execution_count": 204,
   "id": "14c4d196",
   "metadata": {},
   "outputs": [
    {
     "name": "stderr",
     "output_type": "stream",
     "text": [
      "2023-04-05 22:03:17,891 - pyswarms.single.global_best - INFO - Optimize for 15 iters with {'c1': 0.4, 'c2': 0.8, 'w': 0.4}\n",
      "pyswarms.single.global_best: 100%|█████████████████████████████████████████████████████████████|15/15, best_cost=0.0691\n",
      "2023-04-05 22:03:59,747 - pyswarms.single.global_best - INFO - Optimization finished | best cost: 0.06914287805557251, best pos: [-0.03871953  0.29903638 -0.8029468   0.27475548 -0.6606405  -0.56256726\n",
      " -0.98505561  0.30565651  0.18793528  0.69020408  0.24923037  0.05021557\n",
      " -0.46135808  0.17690588 -0.66632166  0.5553383   0.23453064  0.66847083\n",
      " -0.1034632  -0.10857127  0.60207434  0.79120588  0.28913576 -0.16476445\n",
      " -0.04208235  0.19722512 -0.97418422 -0.84442241  0.69975047  0.19507467\n",
      "  0.25772446  0.14667279  0.43148055  0.19902097  0.04501889  0.40937487\n",
      "  0.67322941  0.3458522  -0.01938289  0.21212475 -0.7207811  -0.32915339\n",
      "  0.03077296 -0.26227863  0.3072528  -0.69356425 -0.06503643 -0.32956031\n",
      "  0.68989193 -0.28958538 -0.00889672  0.59271324 -0.90147799  0.44557915\n",
      "  0.43289053 -0.06763505 -0.47565454  0.2146541  -0.52669005  0.09387974\n",
      " -0.24871228 -0.42183149  0.21279184  0.31765062 -0.5840225  -0.35252949\n",
      " -0.70190189 -0.15135883  0.640631    0.27066334  0.25324495 -0.58284042\n",
      "  0.04484536  0.23424863 -0.59826044  0.3391698  -0.30369118  0.72222536\n",
      " -0.10560838  0.26084908  0.5818951  -0.52230213 -0.48775907]\n"
     ]
    },
    {
     "name": "stdout",
     "output_type": "stream",
     "text": [
      "47/47 [==============================] - 0s 802us/step - loss: 0.5386 - accuracy: 0.9193\n"
     ]
    }
   ],
   "source": [
    "cost, pos = optimizer.optimize(evaluate_nn, 15, X_train=X_train, Y_train=Y_train,shape=shape)\n",
    "model.set_weights(set_shape(pos,shape))\n",
    "score = model.evaluate(X_test, Y_test)"
   ]
  },
  {
   "cell_type": "code",
   "execution_count": 205,
   "id": "cadd6304",
   "metadata": {},
   "outputs": [
    {
     "name": "stdout",
     "output_type": "stream",
     "text": [
      "Test accuracy: 0.9193333387374878\n"
     ]
    }
   ],
   "source": [
    "print('Test accuracy:', score[1])"
   ]
  }
 ],
 "metadata": {
  "kernelspec": {
   "display_name": "Python 3 (ipykernel)",
   "language": "python",
   "name": "python3"
  },
  "language_info": {
   "codemirror_mode": {
    "name": "ipython",
    "version": 3
   },
   "file_extension": ".py",
   "mimetype": "text/x-python",
   "name": "python",
   "nbconvert_exporter": "python",
   "pygments_lexer": "ipython3",
   "version": "3.9.7"
  }
 },
 "nbformat": 4,
 "nbformat_minor": 5
}
