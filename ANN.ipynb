{
 "cells": [
  {
   "cell_type": "code",
   "execution_count": 1,
   "id": "65fb4f8d",
   "metadata": {},
   "outputs": [],
   "source": [
    "import pandas as pd\n",
    "import numpy as np\n",
    "import matplotlib.pyplot as plt\n",
    "import seaborn as sns"
   ]
  },
  {
   "cell_type": "code",
   "execution_count": 2,
   "id": "6b222504",
   "metadata": {},
   "outputs": [
    {
     "data": {
      "text/html": [
       "<div>\n",
       "<style scoped>\n",
       "    .dataframe tbody tr th:only-of-type {\n",
       "        vertical-align: middle;\n",
       "    }\n",
       "\n",
       "    .dataframe tbody tr th {\n",
       "        vertical-align: top;\n",
       "    }\n",
       "\n",
       "    .dataframe thead th {\n",
       "        text-align: right;\n",
       "    }\n",
       "</style>\n",
       "<table border=\"1\" class=\"dataframe\">\n",
       "  <thead>\n",
       "    <tr style=\"text-align: right;\">\n",
       "      <th></th>\n",
       "      <th>ID</th>\n",
       "      <th>Age</th>\n",
       "      <th>Experience</th>\n",
       "      <th>Income</th>\n",
       "      <th>ZIP Code</th>\n",
       "      <th>Family</th>\n",
       "      <th>CCAvg</th>\n",
       "      <th>Education</th>\n",
       "      <th>Mortgage</th>\n",
       "      <th>Personal Loan</th>\n",
       "      <th>Securities Account</th>\n",
       "      <th>CD Account</th>\n",
       "      <th>Online</th>\n",
       "      <th>CreditCard</th>\n",
       "    </tr>\n",
       "  </thead>\n",
       "  <tbody>\n",
       "    <tr>\n",
       "      <th>0</th>\n",
       "      <td>1</td>\n",
       "      <td>25</td>\n",
       "      <td>1</td>\n",
       "      <td>49</td>\n",
       "      <td>91107</td>\n",
       "      <td>4</td>\n",
       "      <td>1.6</td>\n",
       "      <td>1</td>\n",
       "      <td>0</td>\n",
       "      <td>0</td>\n",
       "      <td>1</td>\n",
       "      <td>0</td>\n",
       "      <td>0</td>\n",
       "      <td>0</td>\n",
       "    </tr>\n",
       "    <tr>\n",
       "      <th>1</th>\n",
       "      <td>2</td>\n",
       "      <td>45</td>\n",
       "      <td>19</td>\n",
       "      <td>34</td>\n",
       "      <td>90089</td>\n",
       "      <td>3</td>\n",
       "      <td>1.5</td>\n",
       "      <td>1</td>\n",
       "      <td>0</td>\n",
       "      <td>0</td>\n",
       "      <td>1</td>\n",
       "      <td>0</td>\n",
       "      <td>0</td>\n",
       "      <td>0</td>\n",
       "    </tr>\n",
       "    <tr>\n",
       "      <th>2</th>\n",
       "      <td>3</td>\n",
       "      <td>39</td>\n",
       "      <td>15</td>\n",
       "      <td>11</td>\n",
       "      <td>94720</td>\n",
       "      <td>1</td>\n",
       "      <td>1.0</td>\n",
       "      <td>1</td>\n",
       "      <td>0</td>\n",
       "      <td>0</td>\n",
       "      <td>0</td>\n",
       "      <td>0</td>\n",
       "      <td>0</td>\n",
       "      <td>0</td>\n",
       "    </tr>\n",
       "    <tr>\n",
       "      <th>3</th>\n",
       "      <td>4</td>\n",
       "      <td>35</td>\n",
       "      <td>9</td>\n",
       "      <td>100</td>\n",
       "      <td>94112</td>\n",
       "      <td>1</td>\n",
       "      <td>2.7</td>\n",
       "      <td>2</td>\n",
       "      <td>0</td>\n",
       "      <td>0</td>\n",
       "      <td>0</td>\n",
       "      <td>0</td>\n",
       "      <td>0</td>\n",
       "      <td>0</td>\n",
       "    </tr>\n",
       "    <tr>\n",
       "      <th>4</th>\n",
       "      <td>5</td>\n",
       "      <td>35</td>\n",
       "      <td>8</td>\n",
       "      <td>45</td>\n",
       "      <td>91330</td>\n",
       "      <td>4</td>\n",
       "      <td>1.0</td>\n",
       "      <td>2</td>\n",
       "      <td>0</td>\n",
       "      <td>0</td>\n",
       "      <td>0</td>\n",
       "      <td>0</td>\n",
       "      <td>0</td>\n",
       "      <td>1</td>\n",
       "    </tr>\n",
       "  </tbody>\n",
       "</table>\n",
       "</div>"
      ],
      "text/plain": [
       "   ID  Age  Experience  Income  ZIP Code  Family  CCAvg  Education  Mortgage  \\\n",
       "0   1   25           1      49     91107       4    1.6          1         0   \n",
       "1   2   45          19      34     90089       3    1.5          1         0   \n",
       "2   3   39          15      11     94720       1    1.0          1         0   \n",
       "3   4   35           9     100     94112       1    2.7          2         0   \n",
       "4   5   35           8      45     91330       4    1.0          2         0   \n",
       "\n",
       "   Personal Loan  Securities Account  CD Account  Online  CreditCard  \n",
       "0              0                   1           0       0           0  \n",
       "1              0                   1           0       0           0  \n",
       "2              0                   0           0       0           0  \n",
       "3              0                   0           0       0           0  \n",
       "4              0                   0           0       0           1  "
      ]
     },
     "execution_count": 2,
     "metadata": {},
     "output_type": "execute_result"
    }
   ],
   "source": [
    "df = pd.read_csv(r'C:\\Users\\user\\Downloads\\Bank_Personal_Loan_Modelling.csv')\n",
    "df.head()"
   ]
  },
  {
   "cell_type": "code",
   "execution_count": 3,
   "id": "b130bb54",
   "metadata": {},
   "outputs": [],
   "source": [
    "df.drop(['ID'],inplace=True,axis=1)"
   ]
  },
  {
   "cell_type": "code",
   "execution_count": 4,
   "id": "64f80020",
   "metadata": {},
   "outputs": [
    {
     "data": {
      "text/plain": [
       "Age                    45\n",
       "Experience             47\n",
       "Income                162\n",
       "ZIP Code              467\n",
       "Family                  4\n",
       "CCAvg                 108\n",
       "Education               3\n",
       "Mortgage              347\n",
       "Personal Loan           2\n",
       "Securities Account      2\n",
       "CD Account              2\n",
       "Online                  2\n",
       "CreditCard              2\n",
       "dtype: int64"
      ]
     },
     "execution_count": 4,
     "metadata": {},
     "output_type": "execute_result"
    }
   ],
   "source": [
    "df.nunique()"
   ]
  },
  {
   "cell_type": "code",
   "execution_count": 5,
   "id": "a704ad39",
   "metadata": {},
   "outputs": [],
   "source": [
    "## Binning and Label Encoding"
   ]
  },
  {
   "cell_type": "code",
   "execution_count": 6,
   "id": "2d6be748",
   "metadata": {},
   "outputs": [],
   "source": [
    "df['Age'] = pd.cut(df['Age'],bins=[23,30,45,67],labels=['Young','Adult','Old'])"
   ]
  },
  {
   "cell_type": "code",
   "execution_count": 7,
   "id": "f77c9e84",
   "metadata": {},
   "outputs": [
    {
     "data": {
      "text/plain": [
       "Old      2481\n",
       "Adult    1895\n",
       "Young     612\n",
       "Name: Age, dtype: int64"
      ]
     },
     "execution_count": 7,
     "metadata": {},
     "output_type": "execute_result"
    }
   ],
   "source": [
    "df['Age'].value_counts()"
   ]
  },
  {
   "cell_type": "code",
   "execution_count": 8,
   "id": "c0873719",
   "metadata": {},
   "outputs": [],
   "source": [
    "from sklearn.preprocessing import LabelEncoder\n",
    "le = LabelEncoder()\n",
    "df['Age'] = le.fit_transform(df['Age'])"
   ]
  },
  {
   "cell_type": "code",
   "execution_count": 9,
   "id": "b7df522c",
   "metadata": {},
   "outputs": [
    {
     "data": {
      "text/plain": [
       "0       2\n",
       "1       0\n",
       "2       0\n",
       "3       0\n",
       "4       0\n",
       "       ..\n",
       "4995    2\n",
       "4996    2\n",
       "4997    1\n",
       "4998    1\n",
       "4999    2\n",
       "Name: Age, Length: 5000, dtype: int32"
      ]
     },
     "execution_count": 9,
     "metadata": {},
     "output_type": "execute_result"
    }
   ],
   "source": [
    "df['Age']"
   ]
  },
  {
   "cell_type": "code",
   "execution_count": 10,
   "id": "d5601b54",
   "metadata": {},
   "outputs": [
    {
     "data": {
      "text/plain": [
       "Index(['Age', 'Experience', 'Income', 'ZIP Code', 'Family', 'CCAvg',\n",
       "       'Education', 'Mortgage', 'Personal Loan', 'Securities Account',\n",
       "       'CD Account', 'Online', 'CreditCard'],\n",
       "      dtype='object')"
      ]
     },
     "execution_count": 10,
     "metadata": {},
     "output_type": "execute_result"
    }
   ],
   "source": [
    "df.columns"
   ]
  },
  {
   "cell_type": "code",
   "execution_count": 11,
   "id": "6a47785b",
   "metadata": {},
   "outputs": [],
   "source": [
    "col = ['Age', 'Experience', 'Income', 'ZIP Code', 'Family', 'CCAvg', 'Education', \n",
    "       'Mortgage', 'Securities Account','CD Account', 'Online', 'CreditCard', 'Personal Loan']\n",
    "df = df[col]"
   ]
  },
  {
   "cell_type": "code",
   "execution_count": 12,
   "id": "72a1620d",
   "metadata": {},
   "outputs": [],
   "source": [
    "##Splitting the Data"
   ]
  },
  {
   "cell_type": "code",
   "execution_count": 13,
   "id": "99fbf91d",
   "metadata": {},
   "outputs": [],
   "source": [
    "x = df.iloc[:,:-1].values\n",
    "y = df.iloc[:,-1].values"
   ]
  },
  {
   "cell_type": "code",
   "execution_count": 14,
   "id": "2bc12f16",
   "metadata": {},
   "outputs": [],
   "source": [
    "from sklearn.model_selection import train_test_split\n",
    "x_train, x_test, y_train, y_test = train_test_split(x,y,test_size=0.25)"
   ]
  },
  {
   "cell_type": "code",
   "execution_count": 15,
   "id": "0a89b2c2",
   "metadata": {},
   "outputs": [],
   "source": [
    "#Neural Nets"
   ]
  },
  {
   "cell_type": "code",
   "execution_count": 16,
   "id": "b17eef90",
   "metadata": {},
   "outputs": [],
   "source": [
    "from keras.models import Sequential\n",
    "from keras.layers import Dense\n",
    "\n",
    "keras = Sequential()\n",
    "keras.add(Dense(12,input_dim=12,activation='relu'))\n",
    "keras.add(Dense(8,activation='relu'))\n",
    "keras.add(Dense(6,activation='relu'))"
   ]
  },
  {
   "cell_type": "code",
   "execution_count": 17,
   "id": "aba2a740",
   "metadata": {},
   "outputs": [],
   "source": [
    "keras.add(Dense(1,activation='sigmoid'))"
   ]
  },
  {
   "cell_type": "code",
   "execution_count": 18,
   "id": "ecbbcbbf",
   "metadata": {},
   "outputs": [],
   "source": [
    "keras.compile(optimizer='adam',loss='binary_crossentropy',metrics=['accuracy'])"
   ]
  },
  {
   "cell_type": "code",
   "execution_count": 19,
   "id": "59f8922d",
   "metadata": {},
   "outputs": [
    {
     "name": "stdout",
     "output_type": "stream",
     "text": [
      "Epoch 1/20\n",
      "150/150 [==============================] - 1s 1ms/step - loss: 167.7999 - accuracy: 0.7211\n",
      "Epoch 2/20\n",
      "150/150 [==============================] - 0s 924us/step - loss: 0.6309 - accuracy: 0.9016\n",
      "Epoch 3/20\n",
      "150/150 [==============================] - 0s 889us/step - loss: 0.5913 - accuracy: 0.9016\n",
      "Epoch 4/20\n",
      "150/150 [==============================] - 0s 1ms/step - loss: 0.5545 - accuracy: 0.9016\n",
      "Epoch 5/20\n",
      "150/150 [==============================] - 0s 850us/step - loss: 0.5213 - accuracy: 0.9016\n",
      "Epoch 6/20\n",
      "150/150 [==============================] - 0s 850us/step - loss: 0.4921 - accuracy: 0.9016\n",
      "Epoch 7/20\n",
      "150/150 [==============================] - 0s 930us/step - loss: 0.4665 - accuracy: 0.9016\n",
      "Epoch 8/20\n",
      "150/150 [==============================] - 0s 885us/step - loss: 0.4443 - accuracy: 0.9016\n",
      "Epoch 9/20\n",
      "150/150 [==============================] - 0s 904us/step - loss: 0.4252 - accuracy: 0.9016\n",
      "Epoch 10/20\n",
      "150/150 [==============================] - 0s 890us/step - loss: 0.4087 - accuracy: 0.9016\n",
      "Epoch 11/20\n",
      "150/150 [==============================] - 0s 1ms/step - loss: 0.3946 - accuracy: 0.9016\n",
      "Epoch 12/20\n",
      "150/150 [==============================] - 0s 1ms/step - loss: 0.3826 - accuracy: 0.9016\n",
      "Epoch 13/20\n",
      "150/150 [==============================] - 0s 910us/step - loss: 0.3723 - accuracy: 0.9016\n",
      "Epoch 14/20\n",
      "150/150 [==============================] - 0s 991us/step - loss: 0.3636 - accuracy: 0.9016\n",
      "Epoch 15/20\n",
      "150/150 [==============================] - 0s 1ms/step - loss: 0.3562 - accuracy: 0.9016\n",
      "Epoch 16/20\n",
      "150/150 [==============================] - 0s 1ms/step - loss: 0.3500 - accuracy: 0.9016\n",
      "Epoch 17/20\n",
      "150/150 [==============================] - 0s 917us/step - loss: 0.3448 - accuracy: 0.9016\n",
      "Epoch 18/20\n",
      "150/150 [==============================] - 0s 884us/step - loss: 0.3404 - accuracy: 0.9016\n",
      "Epoch 19/20\n",
      "150/150 [==============================] - 0s 910us/step - loss: 0.3367 - accuracy: 0.9016\n",
      "Epoch 20/20\n",
      "150/150 [==============================] - 0s 890us/step - loss: 0.3337 - accuracy: 0.9016\n"
     ]
    },
    {
     "data": {
      "text/plain": [
       "<keras.callbacks.History at 0x22a6f43ff10>"
      ]
     },
     "execution_count": 19,
     "metadata": {},
     "output_type": "execute_result"
    }
   ],
   "source": [
    "keras.fit(x_train,y_train,epochs=20,batch_size=25)"
   ]
  },
  {
   "cell_type": "code",
   "execution_count": 20,
   "id": "9a21966a",
   "metadata": {},
   "outputs": [
    {
     "name": "stdout",
     "output_type": "stream",
     "text": [
      "118/118 [==============================] - 0s 801us/step - loss: 0.3324 - accuracy: 0.9016\n",
      "90.16000032424927\n"
     ]
    }
   ],
   "source": [
    "_,acc = keras.evaluate(x_train,y_train)\n",
    "print(acc*100)"
   ]
  },
  {
   "cell_type": "code",
   "execution_count": 21,
   "id": "d4b2c2b8",
   "metadata": {},
   "outputs": [
    {
     "name": "stdout",
     "output_type": "stream",
     "text": [
      "40/40 [==============================] - 0s 742us/step\n"
     ]
    }
   ],
   "source": [
    "y_pred = keras.predict(x_test)\n",
    "y_pred = (y_pred>0.5)"
   ]
  },
  {
   "cell_type": "code",
   "execution_count": 22,
   "id": "6f2783d4",
   "metadata": {},
   "outputs": [
    {
     "data": {
      "text/plain": [
       "0.9112"
      ]
     },
     "execution_count": 22,
     "metadata": {},
     "output_type": "execute_result"
    }
   ],
   "source": [
    "from sklearn.metrics import accuracy_score\n",
    "accuracy_score(y_test,y_pred)"
   ]
  },
  {
   "cell_type": "code",
   "execution_count": null,
   "id": "29b4aa35",
   "metadata": {},
   "outputs": [],
   "source": []
  }
 ],
 "metadata": {
  "kernelspec": {
   "display_name": "Python 3 (ipykernel)",
   "language": "python",
   "name": "python3"
  },
  "language_info": {
   "codemirror_mode": {
    "name": "ipython",
    "version": 3
   },
   "file_extension": ".py",
   "mimetype": "text/x-python",
   "name": "python",
   "nbconvert_exporter": "python",
   "pygments_lexer": "ipython3",
   "version": "3.9.7"
  }
 },
 "nbformat": 4,
 "nbformat_minor": 5
}
