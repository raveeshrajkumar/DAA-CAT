{
 "cells": [
  {
   "cell_type": "code",
   "execution_count": 102,
   "id": "a4bcf08a",
   "metadata": {},
   "outputs": [],
   "source": [
    "# Importing Packages and Preprocessing the dataset"
   ]
  },
  {
   "cell_type": "code",
   "execution_count": 103,
   "id": "b3cd346e",
   "metadata": {},
   "outputs": [],
   "source": [
    "import pandas as pd\n",
    "import numpy as np\n",
    "import matplotlib.pyplot as plt\n",
    "import seaborn as sns"
   ]
  },
  {
   "cell_type": "code",
   "execution_count": 104,
   "id": "b5c1600f",
   "metadata": {},
   "outputs": [
    {
     "data": {
      "text/html": [
       "<div>\n",
       "<style scoped>\n",
       "    .dataframe tbody tr th:only-of-type {\n",
       "        vertical-align: middle;\n",
       "    }\n",
       "\n",
       "    .dataframe tbody tr th {\n",
       "        vertical-align: top;\n",
       "    }\n",
       "\n",
       "    .dataframe thead th {\n",
       "        text-align: right;\n",
       "    }\n",
       "</style>\n",
       "<table border=\"1\" class=\"dataframe\">\n",
       "  <thead>\n",
       "    <tr style=\"text-align: right;\">\n",
       "      <th></th>\n",
       "      <th>ID</th>\n",
       "      <th>Age</th>\n",
       "      <th>Experience</th>\n",
       "      <th>Income</th>\n",
       "      <th>ZIP Code</th>\n",
       "      <th>Family</th>\n",
       "      <th>CCAvg</th>\n",
       "      <th>Education</th>\n",
       "      <th>Mortgage</th>\n",
       "      <th>Personal Loan</th>\n",
       "      <th>Securities Account</th>\n",
       "      <th>CD Account</th>\n",
       "      <th>Online</th>\n",
       "      <th>CreditCard</th>\n",
       "    </tr>\n",
       "  </thead>\n",
       "  <tbody>\n",
       "    <tr>\n",
       "      <th>0</th>\n",
       "      <td>1</td>\n",
       "      <td>25</td>\n",
       "      <td>1</td>\n",
       "      <td>49</td>\n",
       "      <td>91107</td>\n",
       "      <td>4</td>\n",
       "      <td>1.6</td>\n",
       "      <td>1</td>\n",
       "      <td>0</td>\n",
       "      <td>0</td>\n",
       "      <td>1</td>\n",
       "      <td>0</td>\n",
       "      <td>0</td>\n",
       "      <td>0</td>\n",
       "    </tr>\n",
       "    <tr>\n",
       "      <th>1</th>\n",
       "      <td>2</td>\n",
       "      <td>45</td>\n",
       "      <td>19</td>\n",
       "      <td>34</td>\n",
       "      <td>90089</td>\n",
       "      <td>3</td>\n",
       "      <td>1.5</td>\n",
       "      <td>1</td>\n",
       "      <td>0</td>\n",
       "      <td>0</td>\n",
       "      <td>1</td>\n",
       "      <td>0</td>\n",
       "      <td>0</td>\n",
       "      <td>0</td>\n",
       "    </tr>\n",
       "    <tr>\n",
       "      <th>2</th>\n",
       "      <td>3</td>\n",
       "      <td>39</td>\n",
       "      <td>15</td>\n",
       "      <td>11</td>\n",
       "      <td>94720</td>\n",
       "      <td>1</td>\n",
       "      <td>1.0</td>\n",
       "      <td>1</td>\n",
       "      <td>0</td>\n",
       "      <td>0</td>\n",
       "      <td>0</td>\n",
       "      <td>0</td>\n",
       "      <td>0</td>\n",
       "      <td>0</td>\n",
       "    </tr>\n",
       "    <tr>\n",
       "      <th>3</th>\n",
       "      <td>4</td>\n",
       "      <td>35</td>\n",
       "      <td>9</td>\n",
       "      <td>100</td>\n",
       "      <td>94112</td>\n",
       "      <td>1</td>\n",
       "      <td>2.7</td>\n",
       "      <td>2</td>\n",
       "      <td>0</td>\n",
       "      <td>0</td>\n",
       "      <td>0</td>\n",
       "      <td>0</td>\n",
       "      <td>0</td>\n",
       "      <td>0</td>\n",
       "    </tr>\n",
       "    <tr>\n",
       "      <th>4</th>\n",
       "      <td>5</td>\n",
       "      <td>35</td>\n",
       "      <td>8</td>\n",
       "      <td>45</td>\n",
       "      <td>91330</td>\n",
       "      <td>4</td>\n",
       "      <td>1.0</td>\n",
       "      <td>2</td>\n",
       "      <td>0</td>\n",
       "      <td>0</td>\n",
       "      <td>0</td>\n",
       "      <td>0</td>\n",
       "      <td>0</td>\n",
       "      <td>1</td>\n",
       "    </tr>\n",
       "  </tbody>\n",
       "</table>\n",
       "</div>"
      ],
      "text/plain": [
       "   ID  Age  Experience  Income  ZIP Code  Family  CCAvg  Education  Mortgage  \\\n",
       "0   1   25           1      49     91107       4    1.6          1         0   \n",
       "1   2   45          19      34     90089       3    1.5          1         0   \n",
       "2   3   39          15      11     94720       1    1.0          1         0   \n",
       "3   4   35           9     100     94112       1    2.7          2         0   \n",
       "4   5   35           8      45     91330       4    1.0          2         0   \n",
       "\n",
       "   Personal Loan  Securities Account  CD Account  Online  CreditCard  \n",
       "0              0                   1           0       0           0  \n",
       "1              0                   1           0       0           0  \n",
       "2              0                   0           0       0           0  \n",
       "3              0                   0           0       0           0  \n",
       "4              0                   0           0       0           1  "
      ]
     },
     "execution_count": 104,
     "metadata": {},
     "output_type": "execute_result"
    }
   ],
   "source": [
    "df = pd.read_csv(r'C:\\Users\\user\\Downloads\\Bank_Personal_Loan_Modelling.csv')\n",
    "df.head()"
   ]
  },
  {
   "cell_type": "code",
   "execution_count": 105,
   "id": "5807459c",
   "metadata": {},
   "outputs": [],
   "source": [
    "df.drop(['ID'],inplace=True,axis=1)"
   ]
  },
  {
   "cell_type": "code",
   "execution_count": 107,
   "id": "bc6116ee",
   "metadata": {},
   "outputs": [
    {
     "data": {
      "text/plain": [
       "Age                    45\n",
       "Experience             47\n",
       "Income                162\n",
       "ZIP Code              467\n",
       "Family                  4\n",
       "CCAvg                 108\n",
       "Education               3\n",
       "Mortgage              347\n",
       "Personal Loan           2\n",
       "Securities Account      2\n",
       "CD Account              2\n",
       "Online                  2\n",
       "CreditCard              2\n",
       "dtype: int64"
      ]
     },
     "execution_count": 107,
     "metadata": {},
     "output_type": "execute_result"
    }
   ],
   "source": [
    "df.nunique()"
   ]
  },
  {
   "cell_type": "code",
   "execution_count": 108,
   "id": "3bab73c8",
   "metadata": {},
   "outputs": [
    {
     "data": {
      "text/plain": [
       "<AxesSubplot:xlabel='Personal Loan', ylabel='count'>"
      ]
     },
     "execution_count": 108,
     "metadata": {},
     "output_type": "execute_result"
    },
    {
     "data": {
      "image/png": "[encoded data removed]",
      "text/plain": [
       "<Figure size 432x288 with 1 Axes>"
      ]
     },
     "metadata": {
      "needs_background": "light"
     },
     "output_type": "display_data"
    }
   ],
   "source": [
    "sns.countplot(x='Personal Loan',data=df)\n"
   ]
  },
  {
   "cell_type": "code",
   "execution_count": 109,
   "id": "eee75663",
   "metadata": {},
   "outputs": [],
   "source": [
    "## Binning and Label Encoding"
   ]
  },
  {
   "cell_type": "code",
   "execution_count": 110,
   "id": "b16bea1b",
   "metadata": {},
   "outputs": [],
   "source": [
    "df['Age'] = pd.cut(df['Age'],bins=[23,30,45,67],labels=['Young','Adult','Old'])\n"
   ]
  },
  {
   "cell_type": "code",
   "execution_count": 111,
   "id": "6cda80ed",
   "metadata": {},
   "outputs": [
    {
     "data": {
      "text/plain": [
       "Old      2481\n",
       "Adult    1895\n",
       "Young     612\n",
       "Name: Age, dtype: int64"
      ]
     },
     "execution_count": 111,
     "metadata": {},
     "output_type": "execute_result"
    }
   ],
   "source": [
    "df['Age'].value_counts()"
   ]
  },
  {
   "cell_type": "code",
   "execution_count": 112,
   "id": "4bc59c95",
   "metadata": {},
   "outputs": [],
   "source": [
    "from sklearn.preprocessing import LabelEncoder\n",
    "le = LabelEncoder()\n",
    "df['Age'] = le.fit_transform(df['Age'])"
   ]
  },
  {
   "cell_type": "code",
   "execution_count": 113,
   "id": "75f46eab",
   "metadata": {},
   "outputs": [
    {
     "data": {
      "text/plain": [
       "0       2\n",
       "1       0\n",
       "2       0\n",
       "3       0\n",
       "4       0\n",
       "       ..\n",
       "4995    2\n",
       "4996    2\n",
       "4997    1\n",
       "4998    1\n",
       "4999    2\n",
       "Name: Age, Length: 5000, dtype: int32"
      ]
     },
     "execution_count": 113,
     "metadata": {},
     "output_type": "execute_result"
    }
   ],
   "source": [
    "df['Age']"
   ]
  },
  {
   "cell_type": "code",
   "execution_count": 114,
   "id": "91e66017",
   "metadata": {},
   "outputs": [
    {
     "data": {
      "text/plain": [
       "Index(['Age', 'Experience', 'Income', 'ZIP Code', 'Family', 'CCAvg',\n",
       "       'Education', 'Mortgage', 'Personal Loan', 'Securities Account',\n",
       "       'CD Account', 'Online', 'CreditCard'],\n",
       "      dtype='object')"
      ]
     },
     "execution_count": 114,
     "metadata": {},
     "output_type": "execute_result"
    }
   ],
   "source": [
    "df.columns"
   ]
  },
  {
   "cell_type": "code",
   "execution_count": 115,
   "id": "f9c09167",
   "metadata": {},
   "outputs": [],
   "source": [
    "col = ['Age', 'Experience', 'Income', 'ZIP Code', 'Family', 'CCAvg', 'Education', \n",
    "       'Mortgage', 'Securities Account','CD Account', 'Online', 'CreditCard', 'Personal Loan']\n",
    "df = df[col]"
   ]
  },
  {
   "cell_type": "code",
   "execution_count": 116,
   "id": "647aa289",
   "metadata": {},
   "outputs": [],
   "source": [
    "##Splitting the Data"
   ]
  },
  {
   "cell_type": "code",
   "execution_count": 117,
   "id": "ae5a0b2a",
   "metadata": {},
   "outputs": [],
   "source": [
    "x = df.iloc[:,:-1].values\n",
    "y = df.iloc[:,-1].values"
   ]
  },
  {
   "cell_type": "code",
   "execution_count": 118,
   "id": "c9b6e2ed",
   "metadata": {},
   "outputs": [],
   "source": [
    "from sklearn.model_selection import train_test_split\n",
    "x_train, x_test, y_train, y_test = train_test_split(x,y,test_size=0.25)"
   ]
  },
  {
   "cell_type": "code",
   "execution_count": 119,
   "id": "2553f215",
   "metadata": {},
   "outputs": [],
   "source": [
    "#Neural Nets"
   ]
  },
  {
   "cell_type": "code",
   "execution_count": 120,
   "id": "72b4f116",
   "metadata": {},
   "outputs": [],
   "source": [
    "from keras.models import Sequential\n",
    "from keras.layers import Dense\n",
    "\n",
    "keras = Sequential()\n",
    "keras.add(Dense(12,input_dim=12,activation='relu'))\n",
    "keras.add(Dense(8,activation='relu'))\n",
    "keras.add(Dense(6,activation='relu'))"
   ]
  },
  {
   "cell_type": "code",
   "execution_count": 121,
   "id": "302ef639",
   "metadata": {},
   "outputs": [],
   "source": [
    "keras.add(Dense(1,activation='sigmoid'))"
   ]
  },
  {
   "cell_type": "code",
   "execution_count": 122,
   "id": "66b19a0a",
   "metadata": {},
   "outputs": [],
   "source": [
    "keras.compile(optimizer='adam',loss='binary_crossentropy',metrics=['accuracy'])"
   ]
  },
  {
   "cell_type": "code",
   "execution_count": 123,
   "id": "b73ca0d7",
   "metadata": {},
   "outputs": [
    {
     "name": "stdout",
     "output_type": "stream",
     "text": [
      "Epoch 1/20\n",
      "150/150 [==============================] - 1s 978us/step - loss: 436.9903 - accuracy: 0.5944\n",
      "Epoch 2/20\n",
      "150/150 [==============================] - 0s 924us/step - loss: 0.3252 - accuracy: 0.9080\n",
      "Epoch 3/20\n",
      "150/150 [==============================] - 0s 990us/step - loss: 0.3224 - accuracy: 0.9080\n",
      "Epoch 4/20\n",
      "150/150 [==============================] - 0s 897us/step - loss: 0.3182 - accuracy: 0.9080\n",
      "Epoch 5/20\n",
      "150/150 [==============================] - 0s 850us/step - loss: 0.3161 - accuracy: 0.9080\n",
      "Epoch 6/20\n",
      "150/150 [==============================] - 0s 938us/step - loss: 0.3165 - accuracy: 0.9080\n",
      "Epoch 7/20\n",
      "150/150 [==============================] - 0s 883us/step - loss: 0.3194 - accuracy: 0.9080\n",
      "Epoch 8/20\n",
      "150/150 [==============================] - 0s 897us/step - loss: 0.3156 - accuracy: 0.9080\n",
      "Epoch 9/20\n",
      "150/150 [==============================] - 0s 1ms/step - loss: 0.3165 - accuracy: 0.9080\n",
      "Epoch 10/20\n",
      "150/150 [==============================] - 0s 1ms/step - loss: 0.3157 - accuracy: 0.9080\n",
      "Epoch 11/20\n",
      "150/150 [==============================] - 0s 924us/step - loss: 0.3141 - accuracy: 0.9080\n",
      "Epoch 12/20\n",
      "150/150 [==============================] - 0s 857us/step - loss: 0.3168 - accuracy: 0.9080\n",
      "Epoch 13/20\n",
      "150/150 [==============================] - 0s 1ms/step - loss: 0.3178 - accuracy: 0.9080\n",
      "Epoch 14/20\n",
      "150/150 [==============================] - 0s 877us/step - loss: 0.3140 - accuracy: 0.9080\n",
      "Epoch 15/20\n",
      "150/150 [==============================] - 0s 890us/step - loss: 0.3134 - accuracy: 0.9080\n",
      "Epoch 16/20\n",
      "150/150 [==============================] - 0s 902us/step - loss: 0.3134 - accuracy: 0.9080\n",
      "Epoch 17/20\n",
      "150/150 [==============================] - 0s 931us/step - loss: 0.3143 - accuracy: 0.9080\n",
      "Epoch 18/20\n",
      "150/150 [==============================] - 0s 897us/step - loss: 0.3112 - accuracy: 0.9080\n",
      "Epoch 19/20\n",
      "150/150 [==============================] - 0s 980us/step - loss: 0.3120 - accuracy: 0.9080\n",
      "Epoch 20/20\n",
      "150/150 [==============================] - 0s 917us/step - loss: 0.3097 - accuracy: 0.9080\n"
     ]
    },
    {
     "data": {
      "text/plain": [
       "<keras.callbacks.History at 0x1ee2c5ebee0>"
      ]
     },
     "execution_count": 123,
     "metadata": {},
     "output_type": "execute_result"
    }
   ],
   "source": [
    "keras.fit(x_train,y_train,epochs=20,batch_size=25)"
   ]
  },
  {
   "cell_type": "code",
   "execution_count": 124,
   "id": "cac0692c",
   "metadata": {},
   "outputs": [
    {
     "name": "stdout",
     "output_type": "stream",
     "text": [
      "118/118 [==============================] - 0s 827us/step - loss: 0.3052 - accuracy: 0.9080\n",
      "90.79999923706055\n"
     ]
    }
   ],
   "source": [
    "_,acc = keras.evaluate(x_train,y_train)\n",
    "print(acc*100)"
   ]
  },
  {
   "cell_type": "code",
   "execution_count": 125,
   "id": "6f0db1fa",
   "metadata": {},
   "outputs": [
    {
     "name": "stdout",
     "output_type": "stream",
     "text": [
      "40/40 [==============================] - 0s 818us/step\n"
     ]
    }
   ],
   "source": [
    "\n",
    "y_pred = keras.predict(x_test)\n",
    "y_pred = (y_pred>0.5)"
   ]
  },
  {
   "cell_type": "code",
   "execution_count": 126,
   "id": "887456c4",
   "metadata": {},
   "outputs": [],
   "source": [
    "#Accuracy Score"
   ]
  },
  {
   "cell_type": "code",
   "execution_count": 127,
   "id": "77a564c8",
   "metadata": {},
   "outputs": [
    {
     "data": {
      "text/plain": [
       "0.892"
      ]
     },
     "execution_count": 127,
     "metadata": {},
     "output_type": "execute_result"
    }
   ],
   "source": [
    "from sklearn.metrics import accuracy_score\n",
    "accuracy_score(y_test,y_pred)"
   ]
  },
  {
   "cell_type": "code",
   "execution_count": 128,
   "id": "6a5b635e",
   "metadata": {},
   "outputs": [],
   "source": [
    "from keras import backend as K\n",
    "def r_loss(y_test,y_pred):\n",
    "    res=K.sum(K.square(y_test-y_pred))    \n",
    "    total=K.sum(K.square(y_test-K.mean(y_test)))\n",
    "    return 1-(1-res/(total+K.epsilon()))"
   ]
  },
  {
   "cell_type": "code",
   "execution_count": 129,
   "id": "cafefee8",
   "metadata": {},
   "outputs": [],
   "source": [
    "X = df.iloc[:,:-1].values\n",
    "y = df.iloc[:,-1].values"
   ]
  },
  {
   "cell_type": "code",
   "execution_count": 130,
   "id": "a85b3c7b",
   "metadata": {},
   "outputs": [],
   "source": [
    "from sklearn.preprocessing import StandardScaler\n",
    "scaler = StandardScaler()\n",
    "X = scaler.fit_transform(X)"
   ]
  },
  {
   "cell_type": "code",
   "execution_count": 131,
   "id": "ced91758",
   "metadata": {},
   "outputs": [],
   "source": [
    "X_train, X_test, y_train, y_test = train_test_split(X, y, test_size=0.25, random_state=42)\n"
   ]
  },
  {
   "cell_type": "code",
   "execution_count": 132,
   "id": "b7c55bc3",
   "metadata": {},
   "outputs": [],
   "source": [
    "y_train_reshaped = y_train.reshape((y_train.shape[0], 1))"
   ]
  },
  {
   "cell_type": "code",
   "execution_count": 133,
   "id": "63cd66c3",
   "metadata": {},
   "outputs": [],
   "source": [
    "#Ant Colony Optimisation"
   ]
  },
  {
   "cell_type": "code",
   "execution_count": 134,
   "id": "fb903835",
   "metadata": {},
   "outputs": [],
   "source": [
    "class NeuralNetwork:\n",
    "    def __init__(self, input_size, hidden_size, output_size):\n",
    "        self.weights1 = np.random.randn(input_size, hidden_size)\n",
    "        self.weights2 = np.random.randn(hidden_size, output_size)\n",
    "    \n",
    "    def forward(self, X):\n",
    "        self.hidden = np.maximum(0, np.dot(X, self.weights1))\n",
    "        self.output = np.dot(self.hidden, self.weights2)\n",
    "        return self.output\n",
    "    \n",
    "    def backward(self, X, y, output):\n",
    "        delta2 = output - y\n",
    "        dweights2 = np.dot(self.hidden.T, delta2)\n",
    "        delta1 = np.dot(delta2, self.weights2.T) * (self.hidden > 0)\n",
    "        dweights1 = np.dot(X.T, delta1)\n",
    "        return dweights1, dweights2"
   ]
  },
  {
   "cell_type": "code",
   "execution_count": 135,
   "id": "b6a9fe74",
   "metadata": {},
   "outputs": [],
   "source": [
    "class AntColony:\n",
    "\n",
    "    def __init__(self, n_ants, n_iterations, alpha, beta, rho, Q):\n",
    "        self.n_ants = n_ants\n",
    "        self.n_iterations = n_iterations\n",
    "        self.alpha = alpha\n",
    "        self.beta = beta\n",
    "        self.rho = rho\n",
    "        self.Q = Q\n",
    "         \n",
    "    def run(self, nn, X_train, y_train):\n",
    "        pheromone = np.zeros(nn.weights1.shape)\n",
    "        best_weights1 = nn.weights1\n",
    "        best_weights2 = nn.weights2\n",
    "        best_acc = 0\n",
    "        \n",
    "        for iteration in range(self.n_iterations):\n",
    "            for ant in range(self.n_ants):\n",
    "                weights1 = nn.weights1 + pheromone\n",
    "                nn.weights1 = weights1\n",
    "                output = nn.forward(X_train)\n",
    "                acc = accuracy(output, y_train)\n",
    "                dweights1, dweights2 = nn.backward(X_train, y_train_reshaped, output)\n",
    "                pheromone = self.rho * pheromone + self.Q * (dweights1 / acc)\n",
    "                \n",
    "                if acc > best_acc:\n",
    "                    best_acc = acc\n",
    "                    best_weights1 = nn.weights1\n",
    "                    best_weights2 = nn.weights2\n",
    "            \n",
    "            nn.weights1 = best_weights1\n",
    "            nn.weights2 = best_weights2\n",
    "        \n",
    "        return nn"
   ]
  },
  {
   "cell_type": "code",
   "execution_count": 136,
   "id": "75e02c09",
   "metadata": {},
   "outputs": [],
   "source": [
    "def accuracy(y_pred, y_true):\n",
    "    y_pred = np.argmax(y_pred, axis=1)\n",
    "    return np.mean(y_pred == y_true)"
   ]
  },
  {
   "cell_type": "code",
   "execution_count": 137,
   "id": "af671ef9",
   "metadata": {},
   "outputs": [
    {
     "name": "stderr",
     "output_type": "stream",
     "text": [
      "C:\\Users\\user\\AppData\\Local\\Temp/ipykernel_6248/2314966178.py:24: RuntimeWarning: overflow encountered in multiply\n",
      "  pheromone = self.rho * pheromone + self.Q * (dweights1 / acc)\n"
     ]
    },
    {
     "name": "stdout",
     "output_type": "stream",
     "text": [
      "Test accuracy: 0.89\n"
     ]
    }
   ],
   "source": [
    "nn = NeuralNetwork(X_train.shape[1], 100, 2)\n",
    "aco = AntColony(n_ants=10, n_iterations=100, alpha=1, beta=2, rho=0.5, Q=100)\n",
    "\n",
    "nn = aco.run(nn, X_train, y_train)\n",
    "output = nn.forward(X_test)\n",
    "acc = accuracy(output, y_test)\n",
    "print(f'Test accuracy: {acc:.2f}')"
   ]
  }
 ],
 "metadata": {
  "kernelspec": {
   "display_name": "Python 3 (ipykernel)",
   "language": "python",
   "name": "python3"
  },
  "language_info": {
   "codemirror_mode": {
    "name": "ipython",
    "version": 3
   },
   "file_extension": ".py",
   "mimetype": "text/x-python",
   "name": "python",
   "nbconvert_exporter": "python",
   "pygments_lexer": "ipython3",
   "version": "3.9.7"
  }
 },
 "nbformat": 4,
 "nbformat_minor": 5
}
