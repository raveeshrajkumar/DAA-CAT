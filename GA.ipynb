{
 "cells": [
  {
   "cell_type": "code",
   "execution_count": 59,
   "id": "0f601625",
   "metadata": {},
   "outputs": [
    {
     "data": {
      "text/html": [
       "<div>\n",
       "<style scoped>\n",
       "    .dataframe tbody tr th:only-of-type {\n",
       "        vertical-align: middle;\n",
       "    }\n",
       "\n",
       "    .dataframe tbody tr th {\n",
       "        vertical-align: top;\n",
       "    }\n",
       "\n",
       "    .dataframe thead th {\n",
       "        text-align: right;\n",
       "    }\n",
       "</style>\n",
       "<table border=\"1\" class=\"dataframe\">\n",
       "  <thead>\n",
       "    <tr style=\"text-align: right;\">\n",
       "      <th></th>\n",
       "      <th>ID</th>\n",
       "      <th>Age</th>\n",
       "      <th>Experience</th>\n",
       "      <th>Income</th>\n",
       "      <th>ZIP Code</th>\n",
       "      <th>Family</th>\n",
       "      <th>CCAvg</th>\n",
       "      <th>Education</th>\n",
       "      <th>Mortgage</th>\n",
       "      <th>Personal Loan</th>\n",
       "      <th>Securities Account</th>\n",
       "      <th>CD Account</th>\n",
       "      <th>Online</th>\n",
       "      <th>CreditCard</th>\n",
       "    </tr>\n",
       "  </thead>\n",
       "  <tbody>\n",
       "    <tr>\n",
       "      <th>0</th>\n",
       "      <td>1</td>\n",
       "      <td>25</td>\n",
       "      <td>1</td>\n",
       "      <td>49</td>\n",
       "      <td>91107</td>\n",
       "      <td>4</td>\n",
       "      <td>1.6</td>\n",
       "      <td>1</td>\n",
       "      <td>0</td>\n",
       "      <td>0</td>\n",
       "      <td>1</td>\n",
       "      <td>0</td>\n",
       "      <td>0</td>\n",
       "      <td>0</td>\n",
       "    </tr>\n",
       "    <tr>\n",
       "      <th>1</th>\n",
       "      <td>2</td>\n",
       "      <td>45</td>\n",
       "      <td>19</td>\n",
       "      <td>34</td>\n",
       "      <td>90089</td>\n",
       "      <td>3</td>\n",
       "      <td>1.5</td>\n",
       "      <td>1</td>\n",
       "      <td>0</td>\n",
       "      <td>0</td>\n",
       "      <td>1</td>\n",
       "      <td>0</td>\n",
       "      <td>0</td>\n",
       "      <td>0</td>\n",
       "    </tr>\n",
       "    <tr>\n",
       "      <th>2</th>\n",
       "      <td>3</td>\n",
       "      <td>39</td>\n",
       "      <td>15</td>\n",
       "      <td>11</td>\n",
       "      <td>94720</td>\n",
       "      <td>1</td>\n",
       "      <td>1.0</td>\n",
       "      <td>1</td>\n",
       "      <td>0</td>\n",
       "      <td>0</td>\n",
       "      <td>0</td>\n",
       "      <td>0</td>\n",
       "      <td>0</td>\n",
       "      <td>0</td>\n",
       "    </tr>\n",
       "    <tr>\n",
       "      <th>3</th>\n",
       "      <td>4</td>\n",
       "      <td>35</td>\n",
       "      <td>9</td>\n",
       "      <td>100</td>\n",
       "      <td>94112</td>\n",
       "      <td>1</td>\n",
       "      <td>2.7</td>\n",
       "      <td>2</td>\n",
       "      <td>0</td>\n",
       "      <td>0</td>\n",
       "      <td>0</td>\n",
       "      <td>0</td>\n",
       "      <td>0</td>\n",
       "      <td>0</td>\n",
       "    </tr>\n",
       "    <tr>\n",
       "      <th>4</th>\n",
       "      <td>5</td>\n",
       "      <td>35</td>\n",
       "      <td>8</td>\n",
       "      <td>45</td>\n",
       "      <td>91330</td>\n",
       "      <td>4</td>\n",
       "      <td>1.0</td>\n",
       "      <td>2</td>\n",
       "      <td>0</td>\n",
       "      <td>0</td>\n",
       "      <td>0</td>\n",
       "      <td>0</td>\n",
       "      <td>0</td>\n",
       "      <td>1</td>\n",
       "    </tr>\n",
       "  </tbody>\n",
       "</table>\n",
       "</div>"
      ],
      "text/plain": [
       "   ID  Age  Experience  Income  ZIP Code  Family  CCAvg  Education  Mortgage  \\\n",
       "0   1   25           1      49     91107       4    1.6          1         0   \n",
       "1   2   45          19      34     90089       3    1.5          1         0   \n",
       "2   3   39          15      11     94720       1    1.0          1         0   \n",
       "3   4   35           9     100     94112       1    2.7          2         0   \n",
       "4   5   35           8      45     91330       4    1.0          2         0   \n",
       "\n",
       "   Personal Loan  Securities Account  CD Account  Online  CreditCard  \n",
       "0              0                   1           0       0           0  \n",
       "1              0                   1           0       0           0  \n",
       "2              0                   0           0       0           0  \n",
       "3              0                   0           0       0           0  \n",
       "4              0                   0           0       0           1  "
      ]
     },
     "execution_count": 59,
     "metadata": {},
     "output_type": "execute_result"
    }
   ],
   "source": [
    "import pandas as pd\n",
    "import numpy as np\n",
    "df = pd.read_csv(r'C:\\Users\\user\\Downloads\\Bank_Personal_Loan_Modelling.csv')\n",
    "df.head()"
   ]
  },
  {
   "cell_type": "code",
   "execution_count": 60,
   "id": "628bf236",
   "metadata": {},
   "outputs": [],
   "source": [
    "df = df.drop(columns = [\"ID\",\"ZIP Code\"])"
   ]
  },
  {
   "cell_type": "code",
   "execution_count": 61,
   "id": "84ec5c97",
   "metadata": {},
   "outputs": [],
   "source": [
    "X = df.drop(\"Personal Loan\",axis=1)\n",
    "y = df[\"Personal Loan\"]"
   ]
  },
  {
   "cell_type": "code",
   "execution_count": 62,
   "id": "5a0eba79",
   "metadata": {},
   "outputs": [],
   "source": [
    "from sklearn.model_selection import train_test_split\n",
    "from sklearn.preprocessing import StandardScaler\n",
    "\n",
    "sc = StandardScaler()\n",
    "\n",
    "X_train,X_test,y_train,y_test = train_test_split(X,y,test_size=0.3,random_state=0)"
   ]
  },
  {
   "cell_type": "code",
   "execution_count": 63,
   "id": "c116693a",
   "metadata": {},
   "outputs": [],
   "source": [
    "X_train = sc.fit_transform(X_train)\n",
    "X_test = sc.transform(X_test)"
   ]
  },
  {
   "cell_type": "code",
   "execution_count": 64,
   "id": "7590b5ae",
   "metadata": {},
   "outputs": [
    {
     "name": "stderr",
     "output_type": "stream",
     "text": [
      "C:\\Users\\user\\anaconda3\\lib\\site-packages\\keras\\optimizers\\legacy\\adam.py:117: UserWarning: The `lr` argument is deprecated, use `learning_rate` instead.\n",
      "  super().__init__(name, **kwargs)\n"
     ]
    }
   ],
   "source": [
    "import keras\n",
    "from keras.models import Sequential\n",
    "from keras.layers import Dense\n",
    "\n",
    "from keras.optimizers import Adam\n",
    "\n",
    "optimizer = Adam(lr=0.01)\n",
    "loss = 'binary_crossentropy'"
   ]
  },
  {
   "cell_type": "code",
   "execution_count": 65,
   "id": "4a773f2f",
   "metadata": {},
   "outputs": [],
   "source": [
    "def fitness(weights):\n",
    "    w0 = weights[:66].reshape((11, 6))\n",
    "    w1 = weights[66:72].reshape((6,1))\n",
    "    b0= np.array([0.,0.,0.,0.,0.,0.])\n",
    "    b1 = np.array([0.])\n",
    "\n",
    "\n",
    "    model.layers[0].set_weights([w0, b0])\n",
    "    model.layers[1].set_weights([w1, b1])\n",
    "    model.compile(optimizer=optimizer, loss=loss)\n",
    "    Loss = model.evaluate(X_train, y_train, verbose=0)\n",
    "    return -Loss"
   ]
  },
  {
   "cell_type": "code",
   "execution_count": 66,
   "id": "04276664",
   "metadata": {},
   "outputs": [],
   "source": [
    "def genetic_algorithm(population_size, generations, mutation_rate):\n",
    "    # Initialize the population and belief space with random weights\n",
    "    population = [np.random.uniform(low=-1, high=1, size=77) for _ in range(population_size)]\n",
    "    \n",
    "    for generation in range(generations):\n",
    "        fitness_scores = [fitness(x) for x in population]\n",
    "\n",
    "        indices = np.argsort(fitness_scores)[-2:]\n",
    "        parents = [population[i] for i in indices]\n",
    "\n",
    "        offspring = []\n",
    "        for _ in range(population_size - len(parents)):\n",
    "            parent1 = parents[0].flatten()\n",
    "            parent2 = parents[1].flatten()\n",
    "\n",
    "            #Crossover\n",
    "            crossover_point = np.random.randint(0, len(parent1))\n",
    "            child = np.concatenate([parent1[:crossover_point], parent2[crossover_point:]])\n",
    "            child = child.reshape(parents[0].shape)\n",
    "\n",
    "            #Mutation\n",
    "            for i in range(len(child)):\n",
    "                if np.random.uniform() < mutation_rate:\n",
    "                    child[i] += np.random.normal(loc=0, scale=0.1)\n",
    "\n",
    "            offspring.append(child)\n",
    "\n",
    "        # Combine parents and offspring to form the new population\n",
    "        population = parents + offspring\n",
    "        #\n",
    "        print(\"Finished Generation:\",(generation+1))\n",
    "\n",
    "    fitness_scores = [fitness(x) for x in population]\n",
    "    best_index = np.argmax(fitness_scores)\n",
    "    best_weights = population[best_index]\n",
    "\n",
    "    return best_weights"
   ]
  },
  {
   "cell_type": "code",
   "execution_count": 67,
   "id": "922c82d8",
   "metadata": {},
   "outputs": [],
   "source": [
    "model = Sequential()\n",
    "model.add(Dense(units=6, activation='relu', input_dim=X_train.shape[1]))\n",
    "model.add(Dense(units=1, activation='sigmoid'))"
   ]
  },
  {
   "cell_type": "code",
   "execution_count": 68,
   "id": "59b48a2b",
   "metadata": {},
   "outputs": [
    {
     "data": {
      "text/plain": [
       "[<tf.Variable 'dense_8/kernel:0' shape=(11, 6) dtype=float32, numpy=\n",
       " array([[ 2.34129131e-01,  1.91909552e-01,  3.49326253e-01,\n",
       "          2.10011005e-02,  2.12186575e-01, -5.68343878e-01],\n",
       "        [-7.03738332e-02,  2.98021734e-01, -2.97389746e-01,\n",
       "         -2.90464729e-01,  7.61168599e-02, -4.55164611e-01],\n",
       "        [-4.28861737e-01, -3.30457419e-01, -3.00170183e-02,\n",
       "          6.71852231e-02, -3.92816186e-01, -4.61324066e-01],\n",
       "        [-9.51230526e-02,  1.54421926e-02, -2.09104449e-01,\n",
       "         -4.89261061e-01, -3.86745870e-01,  9.27250385e-02],\n",
       "        [ 3.01551044e-01,  3.88672769e-01,  1.00289464e-01,\n",
       "          3.62105131e-01, -4.82516646e-01, -2.58139402e-01],\n",
       "        [ 2.54809856e-04,  3.59883487e-01,  5.02012730e-01,\n",
       "          4.61678982e-01,  2.42800713e-02, -1.56323761e-01],\n",
       "        [-1.59699231e-01, -5.28729796e-01,  3.09130311e-01,\n",
       "          4.72736955e-01, -1.93858117e-01, -8.08849335e-02],\n",
       "        [-2.70882905e-01, -2.33978868e-01, -5.02681315e-01,\n",
       "         -2.01318830e-01, -2.58183599e-01,  2.36169755e-01],\n",
       "        [-8.16869140e-02,  1.35150433e-01,  4.37543988e-01,\n",
       "          2.64562547e-01, -3.12727571e-01,  4.39974546e-01],\n",
       "        [ 2.61033297e-01,  4.23893929e-02, -3.25193465e-01,\n",
       "          2.86636174e-01, -1.46641135e-01, -2.06965506e-01],\n",
       "        [-8.87495875e-02, -1.48050904e-01, -4.81086612e-01,\n",
       "          5.12154460e-01, -2.26742387e-01,  3.78786564e-01]], dtype=float32)>,\n",
       " <tf.Variable 'dense_8/bias:0' shape=(6,) dtype=float32, numpy=array([0., 0., 0., 0., 0., 0.], dtype=float32)>,\n",
       " <tf.Variable 'dense_9/kernel:0' shape=(6, 1) dtype=float32, numpy=\n",
       " array([[ 0.84364176],\n",
       "        [ 0.34315705],\n",
       "        [-0.29831165],\n",
       "        [ 0.40260494],\n",
       "        [-0.55359745],\n",
       "        [ 0.74951565]], dtype=float32)>,\n",
       " <tf.Variable 'dense_9/bias:0' shape=(1,) dtype=float32, numpy=array([0.], dtype=float32)>]"
      ]
     },
     "execution_count": 68,
     "metadata": {},
     "output_type": "execute_result"
    }
   ],
   "source": [
    "model.weights"
   ]
  },
  {
   "cell_type": "code",
   "execution_count": 69,
   "id": "e5137732",
   "metadata": {},
   "outputs": [
    {
     "name": "stdout",
     "output_type": "stream",
     "text": [
      "Finished Generation: 1\n",
      "Finished Generation: 2\n",
      "Finished Generation: 3\n",
      "Finished Generation: 4\n",
      "Finished Generation: 5\n",
      "Finished Generation: 6\n",
      "Finished Generation: 7\n",
      "Finished Generation: 8\n",
      "Finished Generation: 9\n",
      "Finished Generation: 10\n",
      "Finished Generation: 11\n",
      "Finished Generation: 12\n",
      "Finished Generation: 13\n",
      "Finished Generation: 14\n",
      "Finished Generation: 15\n",
      "Finished Generation: 16\n",
      "Finished Generation: 17\n",
      "Finished Generation: 18\n",
      "Finished Generation: 19\n",
      "Finished Generation: 20\n"
     ]
    }
   ],
   "source": [
    "best_weights = genetic_algorithm(population_size=20, generations=20, mutation_rate=0.1)\n",
    "w0 = best_weights[:66].reshape((11, 6))\n",
    "w1 = best_weights[66:72].reshape((6,1))\n",
    "b0= np.array([0.,0.,0.,0.,0.,0.])\n",
    "b1 = np.array([0.])\n",
    "\n",
    "model.layers[0].set_weights([w0, b0])\n",
    "model.layers[1].set_weights([w1, b1])\n",
    "\n",
    "model.compile(optimizer=optimizer, loss=loss)"
   ]
  },
  {
   "cell_type": "code",
   "execution_count": 70,
   "id": "64298633",
   "metadata": {},
   "outputs": [
    {
     "name": "stdout",
     "output_type": "stream",
     "text": [
      "47/47 [==============================] - 0s 716us/step\n"
     ]
    }
   ],
   "source": [
    "y_pred = model.predict(X_test)\n",
    "y_pred = (y_pred < 0.00005)"
   ]
  },
  {
   "cell_type": "code",
   "execution_count": 71,
   "id": "59b9b764",
   "metadata": {},
   "outputs": [
    {
     "data": {
      "text/plain": [
       "0.9146666666666666"
      ]
     },
     "execution_count": 71,
     "metadata": {},
     "output_type": "execute_result"
    }
   ],
   "source": [
    "from sklearn.metrics import accuracy_score\n",
    "accuracy_score(y_test,y_pred)"
   ]
  }
 ],
 "metadata": {
  "kernelspec": {
   "display_name": "Python 3 (ipykernel)",
   "language": "python",
   "name": "python3"
  },
  "language_info": {
   "codemirror_mode": {
    "name": "ipython",
    "version": 3
   },
   "file_extension": ".py",
   "mimetype": "text/x-python",
   "name": "python",
   "nbconvert_exporter": "python",
   "pygments_lexer": "ipython3",
   "version": "3.9.7"
  }
 },
 "nbformat": 4,
 "nbformat_minor": 5
}
